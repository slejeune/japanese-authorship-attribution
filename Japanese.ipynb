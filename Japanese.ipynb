{
 "cells": [
  {
   "cell_type": "code",
   "execution_count": 315,
   "id": "1337a074",
   "metadata": {
    "scrolled": false
   },
   "outputs": [],
   "source": [
    "# Imports\n",
    "import numpy as np\n",
    "import matplotlib.pylab as plt\n",
    "from zipfile import ZipFile\n",
    "\n",
    "import sklearn.datasets\n",
    "from sklearn.model_selection import train_test_split\n",
    "import sklearn.metrics\n",
    "import sklearn.model_selection\n",
    "from sklearn.svm import SVC\n",
    "\n",
    "from collections import Counter\n",
    "import random\n",
    "\n",
    "from janome.tokenizer import Tokenizer as janome_tokenizer\n",
    "\n",
    "token_object = janome_tokenizer()"
   ]
  },
  {
   "cell_type": "code",
   "execution_count": 14,
   "id": "5a220308",
   "metadata": {},
   "outputs": [
    {
     "name": "stdout",
     "output_type": "stream",
     "text": [
      "Filenames:\n",
      "\t ['Japanese\\\\Caroll\\\\Feeding the Mind JP.txt'\n",
      " 'Japanese\\\\Dostroevsky\\\\Crime and Punishment JP.txt'\n",
      " 'Japanese\\\\Dostroevsky\\\\The Eternal Husband JP.txt'\n",
      " 'Japanese\\\\Doyle\\\\A Scandal in Bohemia JP.txt'\n",
      " 'Japanese\\\\Souseki\\\\Kokoro JP.txt' 'Japanese\\\\Dazai\\\\Pandoras Box JP.txt'\n",
      " 'Japanese\\\\Caroll\\\\What the Tortoise Said to Achilles JP.txt'\n",
      " 'Japanese\\\\Souseki\\\\I am a cat JP.txt'\n",
      " 'Japanese\\\\Doyle\\\\The Adventure of the Dancing Men JP.txt'\n",
      " 'Japanese\\\\Dostroevsky\\\\The Brothers Karamazov JP.txt'\n",
      " 'Japanese\\\\Doyle\\\\The Red-Headed League JP.txt'\n",
      " 'Japanese\\\\Dazai\\\\No Longer Human JP.txt'\n",
      " 'Japanese\\\\Caroll\\\\Alice in Wonderland JP.txt'\n",
      " 'Japanese\\\\Dazai\\\\Setting Sun JP.txt' 'Japanese\\\\Souseki\\\\Botchan JP.txt']\n",
      "Target names:\n",
      "\t ['Caroll', 'Dazai', 'Dostroevsky', 'Doyle', 'Souseki']\n",
      "Targets:\n",
      "\t [0 2 2 3 4 1 0 4 3 2 3 1 0 1 4]\n"
     ]
    }
   ],
   "source": [
    "# Loading data\n",
    "zpath = \"Japanese.zip\" \n",
    "with ZipFile(zpath) as zipObj:\n",
    "    zipObj.extractall()\n",
    "\n",
    "JPpath = \"Japanese\" \n",
    "data = sklearn.datasets.load_files(JPpath, encoding='utf-8')\n",
    "\n",
    "# Fields:\n",
    "# data, filenames, target_names, target, DESCR\n",
    "print(\"Filenames:\\n\\t\", data['filenames'])\n",
    "print(\"Target names:\\n\\t\", data['target_names'])\n",
    "print(\"Targets:\\n\\t\", data['target'])"
   ]
  },
  {
   "cell_type": "code",
   "execution_count": 46,
   "id": "3fdd9757",
   "metadata": {},
   "outputs": [
    {
     "name": "stdout",
     "output_type": "stream",
     "text": [
      "これ コレ\n",
      "は ワ\n",
      "猫 ネコ\n",
      "です デス\n"
     ]
    }
   ],
   "source": [
    "test = \"これは猫です\"\n",
    "\n",
    "for token in token_object.tokenize(test):\n",
    "    print(token.surface, token.phonetic)"
   ]
  },
  {
   "cell_type": "code",
   "execution_count": 47,
   "id": "b2972b9f",
   "metadata": {
    "scrolled": false
   },
   "outputs": [
    {
     "name": "stdout",
     "output_type": "stream",
     "text": [
      "Tokenizing... 0/15\n",
      "Current file: Japanese\\Caroll\\Feeding the Mind JP.txt\n",
      "Tokenizing... 1/15\n",
      "Current file: Japanese\\Dostroevsky\\Crime and Punishment JP.txt\n",
      "Tokenizing... 2/15\n",
      "Current file: Japanese\\Dostroevsky\\The Eternal Husband JP.txt\n",
      "Tokenizing... 3/15\n",
      "Current file: Japanese\\Doyle\\A Scandal in Bohemia JP.txt\n",
      "Tokenizing... 4/15\n",
      "Current file: Japanese\\Souseki\\Kokoro JP.txt\n",
      "Tokenizing... 5/15\n",
      "Current file: Japanese\\Dazai\\Pandoras Box JP.txt\n",
      "Tokenizing... 6/15\n",
      "Current file: Japanese\\Caroll\\What the Tortoise Said to Achilles JP.txt\n",
      "Tokenizing... 7/15\n",
      "Current file: Japanese\\Souseki\\I am a cat JP.txt\n",
      "Tokenizing... 8/15\n",
      "Current file: Japanese\\Doyle\\The Adventure of the Dancing Men JP.txt\n",
      "Tokenizing... 9/15\n",
      "Current file: Japanese\\Dostroevsky\\The Brothers Karamazov JP.txt\n",
      "Tokenizing... 10/15\n",
      "Current file: Japanese\\Doyle\\The Red-Headed League JP.txt\n",
      "Tokenizing... 11/15\n",
      "Current file: Japanese\\Dazai\\No Longer Human JP.txt\n",
      "Tokenizing... 12/15\n",
      "Current file: Japanese\\Caroll\\Alice in Wonderland JP.txt\n",
      "Tokenizing... 13/15\n",
      "Current file: Japanese\\Dazai\\Setting Sun JP.txt\n",
      "Tokenizing... 14/15\n",
      "Current file: Japanese\\Souseki\\Botchan JP.txt\n",
      "CPU times: total: 6min 7s\n",
      "Wall time: 6min 10s\n"
     ]
    }
   ],
   "source": [
    "%%time\n",
    "\n",
    "# Preprocessing\n",
    "\n",
    "tokenized = []\n",
    "\n",
    "for i, text in enumerate(data['data']):\n",
    "    print(\"Tokenizing... \" + str(i) + \"/\" + str(len(data['filenames'])))\n",
    "    print(\"Current file:\", data['filenames'][i])\n",
    "    tokenized.append([x for x in token_object.tokenize(text)])"
   ]
  },
  {
   "cell_type": "code",
   "execution_count": 89,
   "id": "9697630d",
   "metadata": {},
   "outputs": [
    {
     "name": "stdout",
     "output_type": "stream",
     "text": [
      "Amount of extracted tokens per author:\n",
      "Caroll : 45261\n",
      "Dazai : 160790\n",
      "Dostroevsky : 758110\n",
      "Doyle : 43955\n",
      "Souseki : 374268\n",
      "\n",
      "Amount of characters per author:\n",
      "Caroll : 76235\n",
      "Dazai : 250777\n",
      "Dostroevsky : 1263457\n",
      "Doyle : 68859\n",
      "Souseki : 573601\n"
     ]
    }
   ],
   "source": [
    "# First check the total TOKEN length per author\n",
    "print(\"Amount of extracted tokens per author:\")\n",
    "\n",
    "for i in range(max(data['target'])+1):\n",
    "    indices = np.where(data['target'] == i)\n",
    "\n",
    "    print(data['target_names'][i], \":\", sum([len(tokenized[i]) for i in np.array(indices)[0]]))\n",
    "print()\n",
    "\n",
    "# Check total character lenght per author\n",
    "print(\"Amount of characters per author:\")\n",
    "\n",
    "for i in range(max(data['target'])+1):\n",
    "    indices = np.where(data['target'] == i)\n",
    "    \n",
    "    print(data['target_names'][i], \":\", sum([len(data['data'][i]) for i in np.array(indices)[0]]))"
   ]
  },
  {
   "cell_type": "code",
   "execution_count": 278,
   "id": "c1e6fbc5",
   "metadata": {},
   "outputs": [
    {
     "name": "stdout",
     "output_type": "stream",
     "text": [
      "('。', 699)\n",
      "('、', 679)\n",
      "('の', 463)\n",
      "('は', 384)\n",
      "('に', 361)\n",
      "('た', 355)\n",
      "('を', 333)\n",
      "('て', 285)\n",
      "('\\n', 270)\n",
      "('が', 261)\n",
      "('「', 249)\n",
      "('」', 249)\n",
      "('と', 244)\n",
      "('で', 219)\n",
      "('だ', 164)\n",
      "('し', 127)\n",
      "('も', 107)\n",
      "('な', 91)\n",
      "('ホームズ', 90)\n",
      "('こと', 75)\n",
      "('か', 73)\n",
      "('\\u3000', 67)\n",
      "('う', 64)\n",
      "('から', 61)\n",
      "('ある', 61)\n",
      "\n",
      "CPU times: total: 5.58 s\n",
      "Wall time: 5.6 s\n"
     ]
    }
   ],
   "source": [
    "%%time\n",
    "\n",
    "# Check common words, and how common names are\n",
    "\n",
    "i = 3\n",
    "\n",
    "surface = [x.surface for x in tokenized[i]]\n",
    "counts = {item:surface.count(item) for item in surface}\n",
    "x = Counter(counts)\n",
    "for c in x.most_common(25):\n",
    "    print(c)\n",
    "print()\n",
    "\n",
    "# Make names into a discussion thing, beyond the scope of this project\n",
    "# Since APPARENTLY the text is too large for python to handle rip"
   ]
  },
  {
   "cell_type": "code",
   "execution_count": 130,
   "id": "ecae65a7",
   "metadata": {},
   "outputs": [],
   "source": [
    "# Split into smaller parts, update the target list to reflect that\n",
    "target = []\n",
    "data_split = []\n",
    "\n",
    "string_cut = \"\"\n",
    "n = 5\n",
    "\n",
    "# Make cuts of 5 sentences per new part\n",
    "for i, t in enumerate(data['target']):\n",
    "    \n",
    "    for j in range(len(data['data'][i])):\n",
    "\n",
    "        string_cut += data['data'][i][j]\n",
    "\n",
    "        if data['data'][i][j] == \"。\" or data['data'][i][j] == \"！\":\n",
    "            n-=1\n",
    "\n",
    "        if n<0:\n",
    "            data_split.append(string_cut)\n",
    "            target.append(t)\n",
    "            n = 5\n",
    "            string_cut = \"\""
   ]
  },
  {
   "cell_type": "code",
   "execution_count": 244,
   "id": "2ebb06e2",
   "metadata": {},
   "outputs": [
    {
     "name": "stdout",
     "output_type": "stream",
     "text": [
      "Before equalizing authors:\n",
      "{'Caroll': 364, 'Dostroevsky': 4415, 'Doyle': 342, 'Souseki': 2433, 'Dazai': 977}\n",
      "\n",
      "After equalizing authors:\n",
      "{'Caroll': 342, 'Dazai': 342, 'Dostroevsky': 342, 'Doyle': 342, 'Souseki': 342}\n"
     ]
    }
   ],
   "source": [
    "# Make an equal selection of parts so all authors are equally represented\n",
    "\n",
    "print(\"Before equalizing authors:\")\n",
    "author_count = {data['target_names'][item]:target.count(item) for item in target}\n",
    "print(author_count)\n",
    "\n",
    "i_rand = []\n",
    "\n",
    "# Get a random sample of the size of the author with the least parts\n",
    "for t in range(max(data['target'])+1):\n",
    "    \n",
    "    target_indices = list(np.where(target == np.int32(t))[0])\n",
    "    random_sample = random.sample(target_indices, k = min(author_count.values())) \n",
    "    i_rand.append(random_sample)\n",
    "    \n",
    "i_rand = [item for sublist in i_rand for item in sublist] # -> flatten\n",
    "\n",
    "# This is the final data we're working with\n",
    "data_cut = [data_split[i] for i in i_rand]  \n",
    "target_cut = [target[i] for i in i_rand]         \n",
    "\n",
    "print()\n",
    "print(\"After equalizing authors:\")\n",
    "author_count = {data['target_names'][item]:target_cut.count(item) for item in target_cut}\n",
    "print(author_count)"
   ]
  },
  {
   "cell_type": "code",
   "execution_count": 300,
   "id": "c16ca213",
   "metadata": {},
   "outputs": [],
   "source": [
    "# Train test set generation\n",
    "X_train, X_test, y_train, y_test = train_test_split(data_cut, target_cut, test_size=0.2, random_state=1)"
   ]
  },
  {
   "cell_type": "code",
   "execution_count": 246,
   "id": "e5691139",
   "metadata": {},
   "outputs": [],
   "source": [
    "def contains_character(token, characters):\n",
    "    for char in token:\n",
    "        if char in characters:\n",
    "            return True\n",
    "    return False"
   ]
  },
  {
   "cell_type": "code",
   "execution_count": 290,
   "id": "ce91faad",
   "metadata": {},
   "outputs": [],
   "source": [
    "# Extract features from a given text\n",
    "def extract_features(text, leave_out=0):\n",
    "    '''\n",
    "    text: The text we want to extract features from\n",
    "    plot: Which features we want to leave out:\n",
    "        0: None\n",
    "        1: Lexical features\n",
    "        2: Character features\n",
    "        3: POS tags\n",
    "        4: Function words\n",
    "    '''\n",
    "    \n",
    "    bag_of_words = [token for token in token_object.tokenize(text)]\n",
    "    \n",
    "    particles = [\"が\", \"の\", \"を\", \"に\", \"へ\", \"と\", \"で\", \"から\", \"より\",\n",
    "                \"か\", \"や\", \"やら\", \"なり\", \"だの\", \"な\", \"わ\", \"とも\", \"かしら\",\n",
    "                \"さ\", \"よ\", \"ね\", \"ばかり\", \"まで\", \"だけ\", \"ほど\", \"くらい\", \"など\",\n",
    "                \"は\", \"も\", \"こそ\", \"でも\", \"しか\", \"さえ\", \"だに\", \"ば\", \"て\", \n",
    "                \"のに\", \"ので\", \"ところが\", \"けれども\", \"くせに\"]\n",
    "    pos_tags = [\"名詞\", \"固有名詞\", \"形式名詞\", \"動詞\", \"助動詞\", \"複合動詞\", \"形容詞\", \"形容動詞\",\n",
    "               \"連体詞\", \"前置詞\", \"接尾語\", \"辞書形\", \"普通形\", \"丁寧形\", \"不定詞\", \"活用形\", \"終止形\",\n",
    "               \"命令形\", \"使役形\", \"四段活用\", \"条件形\", \"助数詞\", \"対比\", \"否定\", \"打消し\", \"強調\",\n",
    "               \"簡略化\", \"筆者\", \"確認\", \"説明\", \"伝聞\", \"目的\", \"不可避\", \"敬語\", \"副助詞\", \"擬態語\", \"同義語\"]\n",
    "    stopwords = [\"あそこ\", \"あっ\", \"あの\", \"あのかた\", \"あの人\", \"あり\", \"あります\", \"ある\", \"あれ\", \"い\", \"いう\",\n",
    "                  \"います\", \"いる\", \"う\", \"うち\", \"え\", \"お\", \"および\", \"おり\", \"おります\", \"か\", \"かつて\", \"から\",\n",
    "                  \"が\", \"き\", \"ここ\", \"こちら\", \"こと\", \"この\", \"これ\", \"これら\", \"さ\", \"さらに\", \"し\", \"しかし\",\n",
    "                  \"する\", \"ず\", \"せ\", \"せる\", \"そこ\", \"そして\", \"その\", \"その他\", \"その後\", \"それ\", \"それぞれ\",\n",
    "                  \"それで\", \"た\", \"ただし\", \"たち\", \"ため\", \"たり\", \"だ\", \"だっ\", \"だれ\", \"つ\", \"て\", \"で\", \"でき\",\n",
    "                  \"できる\", \"です\", \"では\", \"でも\", \"と\", \"という\", \"といった\", \"とき\", \"ところ\", \"として\", \"とともに\",\n",
    "                  \"とも\", \"と共に\", \"どこ\", \"どの\", \"な\", \"ない\", \"なお\", \"なかっ\", \"ながら\", \"なく\", \"なっ\", \"など\",\n",
    "                  \"なに\", \"なら\", \"なり\", \"なる\", \"なん\", \"に\", \"において\", \"における\", \"について\", \"にて\", \"によって\",\n",
    "                  \"により\", \"による\", \"に対して\", \"に対する\", \"に関する\", \"の\", \"ので\", \"のみ\", \"は\", \"ば\", \"へ\",\n",
    "                  \"ほか\", \"ほとんど\", \"ほど\", \"ます\", \"また\", \"または\", \"まで\", \"も\", \"もの\", \"ものの\", \"や\", \"よう\",\n",
    "                  \"より\", \"ら\", \"られ\", \"られる\", \"れ\", \"れる\", \"を\", \"ん\", \"何\", \"及び\", \"彼\", \"彼女\", \"我々\", \"特に\",\n",
    "                  \"私\", \"私達\", \"貴方\", \"貴方方\"]\n",
    "    hiragana = [\"ぁ\", \"あ\", \"ぃ\", \"い\", \"ぅ\", \"う\", \"ぇ\", \"え\", \"ぉ\", \"お\", \"か\", \"が\", \"き\", \"ぎ\", \"く\", \"ぐ\", \"け\",\n",
    "                \"げ\", \"こ\", \"ご\", \"さ\", \"ざ\", \"し\", \"じ\", \"す\", \"ず\", \"せ\", \"ぜ\", \"そ\", \"ぞ\", \"た\", \"だ\", \"ち\", \"ぢ\",\n",
    "                \"っ\", \"つ\", \"づ\", \"て\", \"で\", \"と\", \"ど\", \"な\", \"に\", \"ぬ\", \"ね\", \"の\", \"は\", \"ば\", \"ぱ\", \"ひ\", \"び\",\n",
    "                \"ぴ\", \"ふ\", \"ぶ\", \"ぷ\", \"へ\", \"べ\", \"ぺ\", \"ほ\", \"ぼ\", \"ぽ\", \"ま\", \"み\", \"む\", \"め\", \"も\", \"ゃ\", \"や\",\n",
    "                \"ゅ\", \"ゆ\", \"ょ\", \"よ\", \"ら\", \"り\", \"る\", \"れ\", \"ろ\", \"ゎ\", \"わ\", \"ゐ\", \"ゑ\", \"を\", \"ん\", \"ゔ\"]\n",
    "    katakana = [\"ァ\", \"ア\", \"ィ\", \"イ\", \"ゥ\", \"ウ\", \"ェ\", \"エ\", \"ォ\", \"オ\", \"カ\", \"ガ\", \"キ\", \"ギ\", \"ク\", \"グ\", \"ケ\", \n",
    "                \"ゲ\", \"コ\", \"ゴ\", \"サ\", \"ザ\", \"シ\", \"ジ\", \"ス\", \"ズ\", \"セ\", \"ゼ\", \"ソ\", \"ゾ\", \"タ\", \"ダ\", \"チ\", \"ヂ\", \n",
    "                \"ッ\", \"ツ\", \"ヅ\", \"テ\", \"デ\", \"ト\", \"ド\", \"ナ\", \"ニ\", \"ヌ\", \"ネ\", \"ノ\", \"ハ\", \"バ\", \"パ\", \"ヒ\", \"ビ\", \n",
    "                \"ピ\", \"フ\", \"ブ\", \"プ\", \"ヘ\", \"ベ\", \"ペ\", \"ホ\", \"ボ\", \"ポ\", \"マ\", \"ミ\", \"ム\", \"メ\", \"モ\", \"ャ\", \"ヤ\", \n",
    "                \"ュ\", \"ユ\", \"ョ\", \"ヨ\", \"ラ\", \"リ\", \"ル\", \"レ\", \"ロ\", \"ヮ\", \"ワ\", \"ヰ\", \"ヱ\", \"ヲ\", \"ン\", \"ヴ\", \"ヵ\", \n",
    "                \"ヶ\", \"ヷ\", \"ヸ\", \"ヹ\", \"ヺ\"]\n",
    "    features = []\n",
    "    \n",
    "    # LEXICAL FEATURES\n",
    "    if not leave_out == 1:\n",
    "        \n",
    "        # Count the number of tokens\n",
    "        features.append(len(bag_of_words))\n",
    "        \n",
    "        # Amount of stopwords (normalized)\n",
    "        features.append(len([token for token in bag_of_words if token.surface in stopwords])/len(bag_of_words))\n",
    "        \n",
    "        # Total number of sentences\n",
    "        features.append(len([token for token in bag_of_words if token.surface in \"。！\"]))\n",
    "        \n",
    "        # Total amount of words with only kanji\n",
    "        features.append(len([character for token in bag_of_words for character in token.surface\n",
    "                             if character not in hiragana and character not in katakana]))\n",
    "\n",
    "    \n",
    "    # CHARACTER FEATURES\n",
    "    \n",
    "    if not leave_out == 2:\n",
    "        \n",
    "    # Total number of characters\n",
    "        features.append(len(text))\n",
    "        \n",
    "    # Total phonetic count AKA non special characters\n",
    "        features.append(len([character for token in bag_of_words for character in token.phonetic if character not in katakana]))\n",
    "    \n",
    "    # Total punctuation count\n",
    "        features.append(len([character for token in bag_of_words for character in token.surface if contains_character(character, \"。、「」？！\")]))\n",
    "\n",
    "    # Parenthesis/quotation count\n",
    "        features.append(len([character for token in bag_of_words for character in token.surface if contains_character(character, \"「」\")]))\n",
    "\n",
    "    # Frequency of sounds\n",
    "    for kana in katakana: # For every letter in the phonetic alphabet\n",
    "\n",
    "        # Count how many times that letter occurs\n",
    "        kana_count = len([character for token in bag_of_words for character in token.phonetic if character in kana])\n",
    "        \n",
    "        # Normalize that number by the total amount of non whitespace characters\n",
    "        normalized = kana_count/len([character for token in bag_of_words for character in token.surface])\n",
    "\n",
    "        # Add that as a separate feature\n",
    "        features.append(normalized)\n",
    "    \n",
    "    \n",
    "    # POS TAGS\n",
    "    if not leave_out == 3:\n",
    "\n",
    "        # Parts of speech (POS) tags frequency\n",
    "        for pos in pos_tags:\n",
    "            features.append(len([token for token in bag_of_words if pos in token.part_of_speech]))\n",
    "    \n",
    "    \n",
    "    # FUNCTION WORDS/ PARTICLES\n",
    "    if not leave_out == 4:\n",
    "\n",
    "        # Function words frequency\n",
    "        for par in particles: # For every particle\n",
    "\n",
    "            # Count how many times that word occurs\n",
    "            par_count = len([token for token in bag_of_words if token.surface == par])\n",
    "            \n",
    "            # Add that as a separate feature\n",
    "            features.append(par_count)\n",
    "    \n",
    "    return features"
   ]
  },
  {
   "cell_type": "code",
   "execution_count": 291,
   "id": "f1036bfa",
   "metadata": {},
   "outputs": [
    {
     "name": "stdout",
     "output_type": "stream",
     "text": [
      "Amount of features extracted: 176\n",
      "Sample:\n",
      "[109, 0.5229357798165137, 6, 68, 167, 19, 11, 2, 0.0, 0.017964071856287425, 0.0, 0.11377245508982035, 0.0, 0.023952095808383235, 0.0, 0.011976047904191617, 0.0, 0.0, 0.059880239520958084, 0.017964071856287425, 0.017964071856287425, 0.0, 0.04790419161676647, 0.0, 0.005988023952095809, 0.0, 0.029940119760479042, 0.0, 0.005988023952095809, 0.017964071856287425, 0.08383233532934131, 0.011976047904191617, 0.011976047904191617, 0.005988023952095809, 0.023952095808383235, 0.005988023952095809, 0.011976047904191617, 0.011976047904191617, 0.04790419161676647, 0.011976047904191617, 0.005988023952095809, 0.0, 0.041916167664670656, 0.005988023952095809, 0.0, 0.041916167664670656, 0.017964071856287425, 0.041916167664670656, 0.0, 0.041916167664670656, 0.017964071856287425, 0.0, 0.0, 0.023952095808383235, 0.005988023952095809, 0.005988023952095809, 0.0, 0.0, 0.0, 0.0, 0.005988023952095809, 0.0, 0.0, 0.0, 0.0, 0.0, 0.0, 0.0, 0.0, 0.011976047904191617, 0.017964071856287425, 0.0, 0.0, 0.029940119760479042, 0.0, 0.0, 0.0, 0.017964071856287425, 0.0, 0.005988023952095809, 0.029940119760479042, 0.005988023952095809, 0.0, 0.017964071856287425, 0.023952095808383235, 0.0, 0.0658682634730539, 0.0, 0.0, 0.011976047904191617, 0.04790419161676647, 0.0, 0.0, 0.0, 0.0, 0.0, 0.0, 0.0, 27, 0, 0, 29, 11, 0, 3, 2, 1, 0, 0, 0, 0, 0, 0, 0, 0, 0, 0, 0, 0, 0, 0, 0, 0, 0, 0, 0, 0, 0, 0, 0, 0, 0, 1, 0, 0, 2, 3, 2, 3, 0, 0, 3, 1, 0, 1, 0, 0, 0, 0, 1, 0, 0, 0, 0, 0, 0, 0, 0, 0, 0, 0, 0, 6, 2, 0, 0, 0, 0, 0, 0, 5, 0, 0, 0, 0, 0]\n"
     ]
    }
   ],
   "source": [
    "print(\"Amount of features extracted:\", len(extract_features(X_train[0])))\n",
    "\n",
    "print(\"Sample:\")\n",
    "print(extract_features(X_train[0]))"
   ]
  },
  {
   "cell_type": "code",
   "execution_count": 292,
   "id": "a0bdad53",
   "metadata": {},
   "outputs": [],
   "source": [
    "# Classify using the features\n",
    "def classify(train_features, train_labels, test_features):\n",
    "    clf = SVC(kernel='linear')\n",
    "    clf.fit(train_features, train_labels)\n",
    "    return clf.predict(test_features)"
   ]
  },
  {
   "cell_type": "code",
   "execution_count": 293,
   "id": "f776ab10",
   "metadata": {},
   "outputs": [],
   "source": [
    "# Evaluate predictions (y_pred) given the ground truth (y_true)\n",
    "def evaluate(y_true, y_pred, verbose=True):\n",
    "    recall = sklearn.metrics.recall_score(y_true, y_pred, average='macro')\n",
    "    # recall = sklearn.metrics.recall_score(y_true, y_pred, average='weighted')\n",
    "    if verbose:\n",
    "        print(\"Recall: %f\" % recall)\n",
    "\n",
    "    precision = sklearn.metrics.precision_score(y_true, y_pred, average='macro')\n",
    "    # precision = sklearn.metrics.precision_score(y_true, y_pred, average='weighted')\n",
    "    if verbose:\n",
    "        print(\"Precision: %f\" % precision)\n",
    "\n",
    "    f1_score = sklearn.metrics.f1_score(y_true, y_pred, average='macro')\n",
    "    # f1_score = sklearn.metrics.f1_score(y_true, y_pred, average='weighted')\n",
    "    if verbose:\n",
    "        print(\"F1-score: %f\" % f1_score)\n",
    "\n",
    "    return recall, precision, f1_score"
   ]
  },
  {
   "cell_type": "code",
   "execution_count": 309,
   "id": "cd634250",
   "metadata": {},
   "outputs": [],
   "source": [
    "# Classify and evaluate\n",
    "def classify_and_evaluate(verbose=True, leave_out=0):\n",
    "\n",
    "    # Extract the features\n",
    "    print(\"Extracting features...\")\n",
    "    features = list(map(extract_features, X_train, [leave_out for x in range(len(X_train))]))\n",
    "    print(\"Done!\")\n",
    "\n",
    "    print(\"Amount of features extracted:\", len(features[0]))\n",
    "\n",
    "    skf = sklearn.model_selection.StratifiedKFold(n_splits=10)\n",
    "    scores = []\n",
    "    for fold_id, (train_indexes, validation_indexes) in enumerate(skf.split(X_train, y_train)):\n",
    "        # Print the fold number\n",
    "        if verbose:\n",
    "            print(\"Fold %d\" % (fold_id + 1))\n",
    "\n",
    "        # Collect the data for this train/validation split\n",
    "        train_features = [features[x] for x in train_indexes]\n",
    "        train_labels = [y_train[x] for x in train_indexes]\n",
    "\n",
    "        validation_features = [features[x] for x in validation_indexes]\n",
    "        validation_labels = [y_train[x] for x in validation_indexes]\n",
    "\n",
    "        # Classify and add the scores to be able to average later\n",
    "        y_pred = classify(train_features, train_labels, validation_features)\n",
    "\n",
    "        scores.append(evaluate(validation_labels, y_pred, verbose))\n",
    "\n",
    "        # Print a newline\n",
    "        if verbose:\n",
    "            print(\"\")\n",
    "\n",
    "    # Print the averaged score\n",
    "    recall = sum([x[0] for x in scores]) / len(scores)\n",
    "    if verbose:\n",
    "        print(\"Averaged total recall\", recall)\n",
    "    precision = sum([x[1] for x in scores]) / len(scores)\n",
    "    if verbose:\n",
    "        print(\"Averaged total precision\", precision)\n",
    "    f_score = sum([x[2] for x in scores]) / len(scores)\n",
    "    if verbose:\n",
    "        print(\"Averaged total f-score\", f_score)\n",
    "        print(\"\")\n",
    "\n",
    "    test_features = list(map(extract_features, X_test, [leave_out for x in range(len(X_test))]))\n",
    "\n",
    "    y_pred = classify(features, y_train, test_features)\n",
    "    \n",
    "    return evaluate(y_test, y_pred)"
   ]
  },
  {
   "cell_type": "code",
   "execution_count": 312,
   "id": "a95a3e23",
   "metadata": {
    "scrolled": true
   },
   "outputs": [
    {
     "name": "stdout",
     "output_type": "stream",
     "text": [
      "Extracting features...\n",
      "Done!\n",
      "Amount of features extracted: 176\n",
      "Fold 1\n",
      "Recall: 0.838889\n",
      "Precision: 0.850573\n",
      "F1-score: 0.839593\n",
      "\n",
      "Fold 2\n",
      "Recall: 0.853602\n",
      "Precision: 0.865341\n",
      "F1-score: 0.856162\n",
      "\n",
      "Fold 3\n",
      "Recall: 0.779711\n",
      "Precision: 0.786682\n",
      "F1-score: 0.778788\n",
      "\n",
      "Fold 4\n",
      "Recall: 0.745116\n",
      "Precision: 0.746450\n",
      "F1-score: 0.744012\n",
      "\n",
      "Fold 5\n",
      "Recall: 0.822283\n",
      "Precision: 0.820085\n",
      "F1-score: 0.819925\n",
      "\n",
      "Fold 6\n",
      "Recall: 0.767074\n",
      "Precision: 0.776884\n",
      "F1-score: 0.767585\n",
      "\n",
      "Fold 7\n",
      "Recall: 0.802330\n",
      "Precision: 0.810400\n",
      "F1-score: 0.804433\n",
      "\n",
      "Fold 8\n",
      "Recall: 0.783047\n",
      "Precision: 0.797998\n",
      "F1-score: 0.782841\n",
      "\n",
      "Fold 9\n",
      "Recall: 0.780159\n",
      "Precision: 0.780169\n",
      "F1-score: 0.779812\n",
      "\n",
      "Fold 10\n",
      "Recall: 0.750529\n",
      "Precision: 0.760987\n",
      "F1-score: 0.751749\n",
      "\n",
      "Averaged total recall 0.7922740095153888\n",
      "Averaged total precision 0.7995567700136955\n",
      "Averaged total f-score 0.7924898459967669\n",
      "\n",
      "Recall: 0.763609\n",
      "Precision: 0.761384\n",
      "F1-score: 0.760661\n",
      "CPU times: total: 7min\n",
      "Wall time: 6min 58s\n"
     ]
    },
    {
     "data": {
      "text/plain": [
       "(0.763608906554979, 0.7613838763856695, 0.7606609264672917)"
      ]
     },
     "execution_count": 312,
     "metadata": {},
     "output_type": "execute_result"
    }
   ],
   "source": [
    "%%time\n",
    "\n",
    "classify_and_evaluate(verbose=True, leave_out=0)"
   ]
  },
  {
   "cell_type": "code",
   "execution_count": 313,
   "id": "2c0fcc33",
   "metadata": {
    "scrolled": true
   },
   "outputs": [
    {
     "name": "stdout",
     "output_type": "stream",
     "text": [
      "Extracting features...\n",
      "Done!\n",
      "Amount of features extracted: 176\n",
      "Recall: 0.763609\n",
      "Precision: 0.761384\n",
      "F1-score: 0.760661\n",
      "Extracting features...\n",
      "Done!\n",
      "Amount of features extracted: 172\n",
      "Recall: 0.748307\n",
      "Precision: 0.746942\n",
      "F1-score: 0.747036\n",
      "Extracting features...\n",
      "Done!\n",
      "Amount of features extracted: 172\n",
      "Recall: 0.663773\n",
      "Precision: 0.662980\n",
      "F1-score: 0.661974\n",
      "Extracting features...\n",
      "Done!\n",
      "Amount of features extracted: 139\n",
      "Recall: 0.769686\n",
      "Precision: 0.765143\n",
      "F1-score: 0.765656\n",
      "Extracting features...\n",
      "Done!\n",
      "Amount of features extracted: 135\n",
      "Recall: 0.717860\n",
      "Precision: 0.723129\n",
      "F1-score: 0.718660\n",
      "CPU times: total: 34min 6s\n",
      "Wall time: 34min 7s\n"
     ]
    }
   ],
   "source": [
    "%%time\n",
    "\n",
    "# Leave out different feature groups\n",
    "results = []\n",
    "for i in range(5):\n",
    "    results.append(classify_and_evaluate(verbose=False, leave_out=i)[2])"
   ]
  },
  {
   "cell_type": "code",
   "execution_count": 330,
   "id": "cc41ec42",
   "metadata": {},
   "outputs": [
    {
     "data": {
      "image/png": "[encoded data removed]",
      "text/plain": [
       "<Figure size 720x504 with 1 Axes>"
      ]
     },
     "metadata": {
      "needs_background": "light"
     },
     "output_type": "display_data"
    }
   ],
   "source": [
    "# Creating histogram\n",
    "groups = [\"A\", \"B\", \"C\", \"D\", \"E\"]\n",
    "labels = [\"A: None\", \"B: Lexical features\", \"C: Character features\", \"D: POS tags\", \"E: Function words\"]\n",
    "\n",
    "fig, ax = plt.subplots(figsize =(10, 7))\n",
    "for i in range(len(groups)):\n",
    "    ax.bar(groups[i], results[i], label=labels[i], color='FireBrick')\n",
    "plt.xlabel(\"Removed feature group\")\n",
    "plt.ylabel(\"F-measure\")\n",
    "plt.ylim((0.60, 0.80))\n",
    "plt.legend(handlelength=0)\n",
    "plt.title(\"F-measure for Japanese authorship attribution with \\ndifferent stylometric feature groups removed\")\n",
    "\n",
    "# Show plot\n",
    "plt.show()"
   ]
  }
 ],
 "metadata": {
  "kernelspec": {
   "display_name": "Python 3 (ipykernel)",
   "language": "python",
   "name": "python3"
  },
  "language_info": {
   "codemirror_mode": {
    "name": "ipython",
    "version": 3
   },
   "file_extension": ".py",
   "mimetype": "text/x-python",
   "name": "python",
   "nbconvert_exporter": "python",
   "pygments_lexer": "ipython3",
   "version": "3.9.5"
  },
  "vscode": {
   "interpreter": {
    "hash": "d49c3f6d6dd49f9272b571d9fad348ab55b8c6c3f691520d74ed0af1f69c3dd8"
   }
  }
 },
 "nbformat": 4,
 "nbformat_minor": 5
}
